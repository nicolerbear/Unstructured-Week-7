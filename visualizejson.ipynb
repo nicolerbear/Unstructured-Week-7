{
 "cells": [
  {
   "cell_type": "code",
   "execution_count": 12,
   "metadata": {},
   "outputs": [],
   "source": [
    "import os\n",
    "from glob import glob\n",
    "import matplotlib.pyplot as plt\n",
    "from matplotlib.backends.backend_agg import FigureCanvasAgg as FigureCanvas\n",
    "from matplotlib.figure import Figure\n",
    "\n",
    "datadirs = glob(\"structured-2018*\")"
   ]
  },
  {
   "cell_type": "code",
   "execution_count": 13,
   "metadata": {},
   "outputs": [],
   "source": [
    "def visualizematch(match, background_image, imagefile):\n",
    "    spawnxs = []\n",
    "    spawnys = []\n",
    "    deathxs = []\n",
    "    deathys = []\n",
    "    \n",
    "    for evt in match['events']:\n",
    "        if evt['type'] == 'spawn':\n",
    "            spawnxs.append(evt['data']['pos']['x'] )\n",
    "            spawnys.append(evt['data']['pos']['y'] )\n",
    "        if evt['type'] == 'death':\n",
    "            deathxs.append(evt['data']['pos']['x'] )\n",
    "            deathys.append(evt['data']['pos']['y'] )\n",
    "\n",
    "    # create figure\n",
    "    fig = Figure()\n",
    "    FigureCanvas(fig)\n",
    "    ax = fig.subplots(1,1)\n",
    "    \n",
    "    fig.set_figwidth(15)\n",
    "    fig.set_figheight(15)\n",
    "    \n",
    "    #plot background\n",
    "    img = plt.imread(background_image)\n",
    "    ax.imshow(img)\n",
    "    ax.set_facecolor((210/255.0, 210/255.0, 210/255.0))\n",
    "              \n",
    "    # plot spawns\n",
    "    ax.scatter(spawnxs, spawnys, color='blue')\n",
    "              \n",
    "    # plot deaths\n",
    "    ax.scatter(deathxs, deathys, color='red')\n",
    "              \n",
    "    ax.set_title('{} ({})'.format(match['map'], match['mode']))\n",
    "    fig.savefig(imagefile)"
   ]
  },
  {
   "cell_type": "code",
   "execution_count": 16,
   "metadata": {},
   "outputs": [],
   "source": [
    "import ujson\n",
    "\n",
    "maprootdir = os.path.join('..', 'week7', 'cwl-data', 'maps', 'ww2')\n",
    "\n",
    "map_images = {\n",
    "    'Aachen': 'aachen.png',\n",
    "    'Ardennes Forest': 'ardennes_forest.png',\n",
    "    'Flak Tower': 'flaktower.png',\n",
    "    'Gibraltar': 'gibraltar.png',\n",
    "    'London Docks': 'london_docks.png',\n",
    "    'Sainte Marie du Mont': 'sainte_marie_du_mont.png' ,\n",
    "    'USS Texas': 'uss_texas.png',\n",
    "    'Valkyrie': 'valkyrie.png'\n",
    "}\n",
    "\n",
    "def parsejsonmatch(jsonfile, imagefile):\n",
    "    with open(jsonfile, 'r') as f:\n",
    "        rawdata = f.read()\n",
    "    data = ujson.loads(rawdata)\n",
    "    \n",
    "    mapname = data['map']\n",
    "    if mapname in map_images:\n",
    "        mapfilename = map_images[mapname]\n",
    "        background_image = os.path.join(maprootdir, mapfilename)\n",
    "        visualizematch(data, background_image, imagefile)\n",
    "    else:\n",
    "        print(\"Bad mapname encountered in {}\".format(jsonfile))"
   ]
  },
  {
   "cell_type": "code",
   "execution_count": 17,
   "metadata": {},
   "outputs": [
    {
     "name": "stdout",
     "output_type": "stream",
     "text": [
      "Bad mapname encountered in structured-2018-03-11-atlanta/structured-1520731201-missing-champs-losers-1-3-map-1.json\n"
     ]
    }
   ],
   "source": [
    "#loop through images to create png\n",
    "for datadir in datadirs:\n",
    "    imagedir = 'images_' + datadir\n",
    "    if not os.path.exists(imagedir):\n",
    "        os.mkdir(imagedir)\n",
    "    jsonfiles = glob(os.path.join(datadir, \"*.json\"))\n",
    "    \n",
    "    for jsonfile in jsonfiles:\n",
    "        basename = os.path.basename(jsonfile)\n",
    "        noextension = os.path.splitext(basename)[0]\n",
    "        imagename = noextension + '.png'\n",
    "        imagefile = os.path.join(imagedir, imagename)\n",
    "        parsejsonmatch(jsonfile, imagefile)"
   ]
  },
  {
   "cell_type": "code",
   "execution_count": null,
   "metadata": {},
   "outputs": [],
   "source": []
  }
 ],
 "metadata": {
  "kernelspec": {
   "display_name": "Python 3",
   "language": "python",
   "name": "python3"
  },
  "language_info": {
   "codemirror_mode": {
    "name": "ipython",
    "version": 3
   },
   "file_extension": ".py",
   "mimetype": "text/x-python",
   "name": "python",
   "nbconvert_exporter": "python",
   "pygments_lexer": "ipython3",
   "version": "3.7.2"
  }
 },
 "nbformat": 4,
 "nbformat_minor": 2
}
